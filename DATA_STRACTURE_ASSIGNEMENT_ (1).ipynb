{
  "nbformat": 4,
  "nbformat_minor": 0,
  "metadata": {
    "colab": {
      "provenance": []
    },
    "kernelspec": {
      "name": "python3",
      "display_name": "Python 3"
    },
    "language_info": {
      "name": "python"
    }
  },
  "cells": [
    {
      "cell_type": "markdown",
      "source": [
        "DATA TYPE AND STRUCTURES QUESTIONS\n",
        "1.What are data structures and why are they important ?\n",
        "\n",
        "Ans=Because it is specific way of organizing and sorting data in computer system .\n",
        "\n",
        "It is important because it provide effective and easy to write code and understand.\n",
        "\n",
        "It also used in handle data and optimizing operation such as searching ,inseration etc.\n",
        "\n",
        "2.Explain the difference between mutable and immutable data typeswith examples?\n",
        "\n",
        "Ans=Mutable data type which can be changed or modified after creation such as list,dictionaries,set.\n",
        "\n",
        "Immutable data type which cannot modified after creation such as tuples,string etc.\n",
        "\n",
        "3.What are the main difference between lists and tuples in python?\n",
        "\n",
        "Ans.=The difference between tuples and list is list is mutable data type while tuples is immutable data types.\n",
        "\n",
        "4.Describes how dictionaries store data.\n",
        "\n",
        "Ans=In form of key and values pair.\n",
        "\n",
        "5.Why might you use a set instead of a list in python?\n",
        "\n",
        "Ans =Because set do membership tests a lot efficency than list.\n",
        "\n",
        "6.What is a string in python, and how is it different from a list?\n",
        "\n",
        "Ans. A string is a sequence of characters inside quotes unlike lists are string is immutable.\n",
        "\n",
        "7. How do tuples ensure data entergrity in python?\n",
        "\n",
        "Ans. tuples cannot be changed after creation, so they prevent accidental modifications.\n",
        "\n",
        "8. What is a hash table, and how does it relate to dictionaries in python?\n",
        "\n",
        "And. Ahash table is a data structure that stores key-valuepairs using a unique key in python and dictionories are implemented using hash tables.\n",
        "\n",
        "9. Can lists contain different data types in python?\n",
        "\n",
        "Ans. Yes a list can store different types like numbers,string,and even othor lists.\n",
        "\n",
        "10. Explain why strings are immutable in python.\n",
        "\n",
        "Ans. because string cennot be change after creation and if you modify a string then python creates a new one.\n",
        "\n",
        "11. What advantage do dictionories offer over list for certain task.\n",
        "\n",
        "Ans. Dictionories provide fast lookups using keys while list require searching through all elements.\n",
        "\n",
        "12. Describe a scenario where using a tuple would be preferable over a list.\n",
        "\n",
        "Ans. When stroring fixed data like coordinates (x, Y), since tuple cannot be modified accidentally.\n",
        "\n",
        "13. How do sets handle dublicate values in python?\n",
        "\n",
        "Ans. Sets automatically remove dublicate values.\n",
        "\n",
        "14. How does the \"n\" keyword work differently for lists and dictionories?\n",
        "\n",
        "Ans. lists check if a value value exist and dictionories check if a key exists.\n",
        "\n",
        "15. Can you modify the elements of a tuple? Explain why or why not.\n",
        "\n",
        "Ans. No i can't modify the elements of tuple becouse tuples are immutable.\n",
        "\n",
        "16. What is nested dictionory,and give me example of its use case.\n",
        "\n",
        "Ans. It is a dictionary inside another dictionary."
      ],
      "metadata": {
        "id": "AccvqZcCa2FK"
      }
    },
    {
      "cell_type": "code",
      "source": [
        "#student = {\"name\": \"Alice\", \"grades\": {\"math\": 90, \"science\": 85}}"
      ],
      "metadata": {
        "id": "q2y-4A0ejJfG"
      },
      "execution_count": 2,
      "outputs": []
    },
    {
      "cell_type": "markdown",
      "source": [
        "17. Describe the time complexity of accessing elements in a dictionary.\n",
        "\n",
        "Ans. Accessing elements in a dictionary is o(1) (constant time) becouse it uses a hash table.\n",
        "\n",
        "18. In what situations are lists preferred over dictionories?\n",
        "\n",
        "ans. lists preferred over dictionories when working with siquential data.\n",
        "\n",
        "19. Why are dictionaries considered unordered, and how does that affect data retrieval.\n",
        "\n",
        "Ans. Older Python versions (before 3.7) did not guarantee order. However, since Python 3.7, dictionaries maintain insertion order but do not allow indexing like lists.\n",
        "\n",
        "20. Explain a difference between a list and a dictionary in a terms of data retrieval.\n",
        "\n",
        "Ans. Lists can access data by index but dictionaries can access data by key.\n",
        "\n",
        "#Practical questions\n",
        "\n",
        "1. Write a code to create a string with your name and print it."
      ],
      "metadata": {
        "id": "3Nu8680LjOTg"
      }
    },
    {
      "cell_type": "code",
      "source": [
        "name = \"vivekanand\"\n",
        "print(name)"
      ],
      "metadata": {
        "colab": {
          "base_uri": "https://localhost:8080/"
        },
        "id": "awn-m05aj-5d",
        "outputId": "b6ebad29-71a9-4945-81cb-bb09942d77a8"
      },
      "execution_count": 3,
      "outputs": [
        {
          "output_type": "stream",
          "name": "stdout",
          "text": [
            "vivekanand\n"
          ]
        }
      ]
    },
    {
      "cell_type": "markdown",
      "source": [
        "2. Write a code to Find a length of the string \"Hello Worls"
      ],
      "metadata": {
        "id": "P4pjd5BqkGzx"
      }
    },
    {
      "cell_type": "code",
      "source": [
        "print(len(\"Hello World\"))"
      ],
      "metadata": {
        "colab": {
          "base_uri": "https://localhost:8080/"
        },
        "id": "9sy-AR5ukOn5",
        "outputId": "452e98a1-c0bd-41bc-e638-27658cf13eec"
      },
      "execution_count": 4,
      "outputs": [
        {
          "output_type": "stream",
          "name": "stdout",
          "text": [
            "11\n"
          ]
        }
      ]
    },
    {
      "cell_type": "markdown",
      "source": [
        "3. Write a code of slice the first 3 characters from the string\"python programming\"."
      ],
      "metadata": {
        "id": "itKcvR4AkWN7"
      }
    },
    {
      "cell_type": "code",
      "source": [
        "print(\"python programming\"[0:3])"
      ],
      "metadata": {
        "colab": {
          "base_uri": "https://localhost:8080/"
        },
        "id": "hEVTe78Eka_8",
        "outputId": "271eea9c-c13e-4433-eba7-92cf887bd811"
      },
      "execution_count": 5,
      "outputs": [
        {
          "output_type": "stream",
          "name": "stdout",
          "text": [
            "pyt\n"
          ]
        }
      ]
    },
    {
      "cell_type": "markdown",
      "source": [
        "4. Write a code to convert the string \"hello\" to uppercase."
      ],
      "metadata": {
        "id": "CDcx_L5nkgFt"
      }
    },
    {
      "cell_type": "code",
      "source": [
        "print(\"hello\".upper())"
      ],
      "metadata": {
        "colab": {
          "base_uri": "https://localhost:8080/"
        },
        "id": "hp4hrcvBknHX",
        "outputId": "b0ca2195-d3c0-495c-a623-598b7321dab7"
      },
      "execution_count": 6,
      "outputs": [
        {
          "output_type": "stream",
          "name": "stdout",
          "text": [
            "HELLO\n"
          ]
        }
      ]
    },
    {
      "cell_type": "markdown",
      "source": [
        "5. Write a code to replace the word \"apple\" with \"orange\" in the string \"i like apple\"."
      ],
      "metadata": {
        "id": "kQqdoW1gksX2"
      }
    },
    {
      "cell_type": "code",
      "source": [
        "print(\"i like apple\".replace(\"apple\", \"orange\"))"
      ],
      "metadata": {
        "colab": {
          "base_uri": "https://localhost:8080/"
        },
        "id": "udrHkbhAkyPF",
        "outputId": "43d5cbc4-461f-4461-a1fd-62ea35733685"
      },
      "execution_count": 7,
      "outputs": [
        {
          "output_type": "stream",
          "name": "stdout",
          "text": [
            "i like orange\n"
          ]
        }
      ]
    },
    {
      "cell_type": "markdown",
      "source": [
        "6. Write a code to create a list with numbers 1 to 5 and print it."
      ],
      "metadata": {
        "id": "Cv2CRyouk5z3"
      }
    },
    {
      "cell_type": "code",
      "source": [
        "numbers = [1, 2, 3, 4, 5]\n",
        "print(numbers)"
      ],
      "metadata": {
        "colab": {
          "base_uri": "https://localhost:8080/"
        },
        "id": "nYE8VSnTk_Oj",
        "outputId": "a91e5b89-d50c-4674-ebfb-e99a9f7f9541"
      },
      "execution_count": 8,
      "outputs": [
        {
          "output_type": "stream",
          "name": "stdout",
          "text": [
            "[1, 2, 3, 4, 5]\n"
          ]
        }
      ]
    },
    {
      "cell_type": "markdown",
      "source": [
        "7. Write a code to append the number 10 to the list[1, 2, 3, 4]."
      ],
      "metadata": {
        "id": "raLMc2gJlEjc"
      }
    },
    {
      "cell_type": "code",
      "source": [
        "my_list = [1, 2, 3, 4]\n",
        "my_list.append(10)\n",
        "print(my_list)"
      ],
      "metadata": {
        "colab": {
          "base_uri": "https://localhost:8080/"
        },
        "id": "S-_FFF-dlKVb",
        "outputId": "f56e3a54-8c94-409c-c0a6-7bdac06168f3"
      },
      "execution_count": 9,
      "outputs": [
        {
          "output_type": "stream",
          "name": "stdout",
          "text": [
            "[1, 2, 3, 4, 10]\n"
          ]
        }
      ]
    },
    {
      "cell_type": "markdown",
      "source": [
        "8. Write a code to Remove the number 3 from the list [1, 2, 3, 4, 5]."
      ],
      "metadata": {
        "id": "sHEBfrn_lPF8"
      }
    },
    {
      "cell_type": "code",
      "source": [
        "my_list = [1, 2, 3, 4, 5]\n",
        "my_list.remove(3)\n",
        "print(my_list)"
      ],
      "metadata": {
        "colab": {
          "base_uri": "https://localhost:8080/"
        },
        "id": "p_bJ5oVDlVQt",
        "outputId": "8e575dae-4e79-4ef2-c7c8-eb9c2c5714e0"
      },
      "execution_count": 10,
      "outputs": [
        {
          "output_type": "stream",
          "name": "stdout",
          "text": [
            "[1, 2, 4, 5]\n"
          ]
        }
      ]
    },
    {
      "cell_type": "markdown",
      "source": [
        "9. Write a code to access the secend element in the list['a','b','c','d']."
      ],
      "metadata": {
        "id": "xPply8tslcQI"
      }
    },
    {
      "cell_type": "code",
      "source": [
        "my_list = ['a', 'b', 'c', 'd']\n",
        "print(my_list[1])"
      ],
      "metadata": {
        "colab": {
          "base_uri": "https://localhost:8080/"
        },
        "id": "TAvC7Pzglg5F",
        "outputId": "d2980b27-2992-43df-f74b-8456e9da1f96"
      },
      "execution_count": 11,
      "outputs": [
        {
          "output_type": "stream",
          "name": "stdout",
          "text": [
            "b\n"
          ]
        }
      ]
    },
    {
      "cell_type": "markdown",
      "source": [
        "10. Write a code to reversethe list [10,20,30,40,50]."
      ],
      "metadata": {
        "id": "sXlJOM3gllrX"
      }
    },
    {
      "cell_type": "code",
      "source": [
        "my_list = [10, 20, 30, 40, 50]\n",
        "my_list.reverse()\n",
        "print(my_list)"
      ],
      "metadata": {
        "colab": {
          "base_uri": "https://localhost:8080/"
        },
        "id": "2bIcGSTSlsLi",
        "outputId": "838362f5-979c-4087-f831-6cf0b3278591"
      },
      "execution_count": 12,
      "outputs": [
        {
          "output_type": "stream",
          "name": "stdout",
          "text": [
            "[50, 40, 30, 20, 10]\n"
          ]
        }
      ]
    },
    {
      "cell_type": "markdown",
      "source": [
        "11. Write a code to create a tuple with the elements 100, 200, 300 and print it."
      ],
      "metadata": {
        "id": "HE5qQOrZlyoD"
      }
    },
    {
      "cell_type": "code",
      "source": [
        "my_tuple = (100, 200, 300)\n",
        "print(my_tuple)"
      ],
      "metadata": {
        "colab": {
          "base_uri": "https://localhost:8080/"
        },
        "id": "uS9gq7rol6Q1",
        "outputId": "20c693c5-8258-4d87-a3cc-e38df278c739"
      },
      "execution_count": 13,
      "outputs": [
        {
          "output_type": "stream",
          "name": "stdout",
          "text": [
            "(100, 200, 300)\n"
          ]
        }
      ]
    },
    {
      "cell_type": "markdown",
      "source": [
        "12. Write a code to access the second-to-last element of the tuple ('red', 'green', 'blue', 'yellow')."
      ],
      "metadata": {
        "id": "76GzpkttmDwF"
      }
    },
    {
      "cell_type": "code",
      "source": [
        "colors = ('red', 'green', 'blue', 'yellow')\n",
        "print(colors[-2])"
      ],
      "metadata": {
        "colab": {
          "base_uri": "https://localhost:8080/"
        },
        "id": "AxZJW-FbmFaT",
        "outputId": "d7c09621-2350-4cb7-ff35-9c35ff1f5aff"
      },
      "execution_count": 14,
      "outputs": [
        {
          "output_type": "stream",
          "name": "stdout",
          "text": [
            "blue\n"
          ]
        }
      ]
    },
    {
      "cell_type": "markdown",
      "source": [
        "13. Write a code to find the minimum number in the tuple (10, 20, 5, 15)."
      ],
      "metadata": {
        "id": "c-maPOsHmMlT"
      }
    },
    {
      "cell_type": "code",
      "source": [
        "my_tuple = (10, 20, 5, 15)\n",
        "print(min(my_tuple))"
      ],
      "metadata": {
        "colab": {
          "base_uri": "https://localhost:8080/"
        },
        "id": "ifvTYX2vmXfj",
        "outputId": "5b381f2f-b52d-4f7d-d848-4b07f8c4603b"
      },
      "execution_count": 15,
      "outputs": [
        {
          "output_type": "stream",
          "name": "stdout",
          "text": [
            "5\n"
          ]
        }
      ]
    },
    {
      "cell_type": "markdown",
      "source": [
        "14. Write a code to find the index of the element \"cat\" in the tuple ('dog', 'cat', 'rabbit')."
      ],
      "metadata": {
        "id": "6fyeWcRVmdbL"
      }
    },
    {
      "cell_type": "code",
      "source": [
        "my_tuple = ('dog', 'cat', 'rabbit')\n",
        "print(my_tuple.index(\"cat\"))"
      ],
      "metadata": {
        "colab": {
          "base_uri": "https://localhost:8080/"
        },
        "id": "WzIAxU3Kmip7",
        "outputId": "6a49c079-b1f0-4190-fe3e-7f6efe180aa8"
      },
      "execution_count": 16,
      "outputs": [
        {
          "output_type": "stream",
          "name": "stdout",
          "text": [
            "1\n"
          ]
        }
      ]
    },
    {
      "cell_type": "markdown",
      "source": [
        "\n",
        "15. Write a code to create a tuple containing three different fruits and check if \"kiwi\" is in it."
      ],
      "metadata": {
        "id": "XFaqbs6cmsD1"
      }
    },
    {
      "cell_type": "code",
      "source": [
        "my_dict = {\"name\": \"Alice\", \"age\": 25, \"city\": \"New York\"}\n",
        "print(my_dict)"
      ],
      "metadata": {
        "colab": {
          "base_uri": "https://localhost:8080/"
        },
        "id": "NoFAjyMMmymr",
        "outputId": "da2a4474-13ad-4cf0-f484-7174e2df9b1b"
      },
      "execution_count": 17,
      "outputs": [
        {
          "output_type": "stream",
          "name": "stdout",
          "text": [
            "{'name': 'Alice', 'age': 25, 'city': 'New York'}\n"
          ]
        }
      ]
    },
    {
      "cell_type": "markdown",
      "source": [
        "16. Write a code to create a set with the elements 'a', 'b', 'c' and print it."
      ],
      "metadata": {
        "id": "NI1v9eI3m2Gg"
      }
    },
    {
      "cell_type": "code",
      "source": [
        "my_set = {'a', 'b', 'c'}\n",
        "print(my_set)"
      ],
      "metadata": {
        "colab": {
          "base_uri": "https://localhost:8080/"
        },
        "id": "5g5tZ-TNm7Ce",
        "outputId": "9fcadd61-223d-432d-f405-4f9d5348aa6c"
      },
      "execution_count": 18,
      "outputs": [
        {
          "output_type": "stream",
          "name": "stdout",
          "text": [
            "{'a', 'b', 'c'}\n"
          ]
        }
      ]
    },
    {
      "cell_type": "markdown",
      "source": [
        "17. Write a code to clear all elements from the set {1, 2, 3, 4, 5}."
      ],
      "metadata": {
        "id": "ofHCg21Fm_13"
      }
    },
    {
      "cell_type": "code",
      "source": [
        "my_set = {1, 2, 3, 4, 5}\n",
        "my_set.clear()\n",
        "print(my_set)"
      ],
      "metadata": {
        "colab": {
          "base_uri": "https://localhost:8080/"
        },
        "id": "IoArtwiFnF5i",
        "outputId": "9d0c4905-8e3d-4e42-865c-936f13f3ac69"
      },
      "execution_count": 19,
      "outputs": [
        {
          "output_type": "stream",
          "name": "stdout",
          "text": [
            "set()\n"
          ]
        }
      ]
    },
    {
      "cell_type": "markdown",
      "source": [
        "18. Write a code to remove the element 4 from the set {1, 2, 3, 4}."
      ],
      "metadata": {
        "id": "4zzKEJhUnKEj"
      }
    },
    {
      "cell_type": "code",
      "source": [
        "my_set = {1, 2, 3, 4}\n",
        "my_set.remove(4)\n",
        "print(my_set)"
      ],
      "metadata": {
        "colab": {
          "base_uri": "https://localhost:8080/"
        },
        "id": "zxIMPDiTnQCf",
        "outputId": "c82a6e8e-27cc-4ab5-a887-e6ba5f47cc0c"
      },
      "execution_count": 20,
      "outputs": [
        {
          "output_type": "stream",
          "name": "stdout",
          "text": [
            "{1, 2, 3}\n"
          ]
        }
      ]
    },
    {
      "cell_type": "markdown",
      "source": [
        "19. Write a code to find the union of two sets {1, 2, 3} and {3, 4, 5}.\n",
        "     "
      ],
      "metadata": {
        "id": "WmfFzbkanXj5"
      }
    },
    {
      "cell_type": "code",
      "source": [
        "set1 = {1, 2, 3}\n",
        "set2 = {3, 4, 5}\n",
        "print(set1 | set2)"
      ],
      "metadata": {
        "colab": {
          "base_uri": "https://localhost:8080/"
        },
        "id": "aiUfTPovnep_",
        "outputId": "26e931c8-dbc6-4208-f61b-753196d00b2b"
      },
      "execution_count": 21,
      "outputs": [
        {
          "output_type": "stream",
          "name": "stdout",
          "text": [
            "{1, 2, 3, 4, 5}\n"
          ]
        }
      ]
    },
    {
      "cell_type": "markdown",
      "source": [
        "20. Write a code to find the intersection of two sets {1, 2, 3} and {2, 3, 4}."
      ],
      "metadata": {
        "id": "cU9RSnbfnjPY"
      }
    },
    {
      "cell_type": "code",
      "source": [
        "set1 = {1, 2, 3}\n",
        "set2 = {2, 3, 4}\n",
        "print(set1 & set2)"
      ],
      "metadata": {
        "colab": {
          "base_uri": "https://localhost:8080/"
        },
        "id": "IXjK84mZnnZ9",
        "outputId": "ebe2ab77-8c58-435f-c518-f18fac8624fc"
      },
      "execution_count": 22,
      "outputs": [
        {
          "output_type": "stream",
          "name": "stdout",
          "text": [
            "{2, 3}\n"
          ]
        }
      ]
    },
    {
      "cell_type": "markdown",
      "source": [
        "21. Write a code to create a dictionary with the keys \"name\", \"age\", and \"city\", and print it."
      ],
      "metadata": {
        "id": "AoViZ2_gnswy"
      }
    },
    {
      "cell_type": "code",
      "source": [
        "person = {\"name\": \"Alice\", \"age\": 25, \"city\": \"New York\"}\n",
        "print(person)"
      ],
      "metadata": {
        "colab": {
          "base_uri": "https://localhost:8080/"
        },
        "id": "QIMruVnrnyBL",
        "outputId": "a68f1749-ad8c-4371-8a4a-be973fb6b94b"
      },
      "execution_count": 23,
      "outputs": [
        {
          "output_type": "stream",
          "name": "stdout",
          "text": [
            "{'name': 'Alice', 'age': 25, 'city': 'New York'}\n"
          ]
        }
      ]
    },
    {
      "cell_type": "markdown",
      "source": [
        "22. Write a code to add a new key-value pair \"country\": \"USA\" to the dictionary {'name': 'John', 'age': 25}."
      ],
      "metadata": {
        "id": "QXdV9-ERn151"
      }
    },
    {
      "cell_type": "code",
      "source": [
        "person = {\"name\": \"John\", \"age\": 25}\n",
        "person[\"country\"] = \"USA\"\n",
        "print(person)"
      ],
      "metadata": {
        "colab": {
          "base_uri": "https://localhost:8080/"
        },
        "id": "exuphlu5n8RU",
        "outputId": "e97b4509-ad21-44b2-8731-cdbe8fe8bc69"
      },
      "execution_count": 24,
      "outputs": [
        {
          "output_type": "stream",
          "name": "stdout",
          "text": [
            "{'name': 'John', 'age': 25, 'country': 'USA'}\n"
          ]
        }
      ]
    },
    {
      "cell_type": "markdown",
      "source": [
        "23. Write a code to access the value associated with the key \"name\" in the dictionary {'name': 'Alice', 'age': 30}."
      ],
      "metadata": {
        "id": "OIjCL3lCoEg-"
      }
    },
    {
      "cell_type": "code",
      "source": [
        "person = {\"name\": \"Alice\", \"age\": 30}\n",
        "print(person[\"name\"])"
      ],
      "metadata": {
        "colab": {
          "base_uri": "https://localhost:8080/"
        },
        "id": "on20u4fboLLL",
        "outputId": "2a147257-9a31-42de-b525-815c472c3859"
      },
      "execution_count": 25,
      "outputs": [
        {
          "output_type": "stream",
          "name": "stdout",
          "text": [
            "Alice\n"
          ]
        }
      ]
    },
    {
      "cell_type": "markdown",
      "source": [
        "24. Write a code to remove the key \"age\" from the dictionary {'name': 'Bob', 'age': 22, 'city': 'New York'}."
      ],
      "metadata": {
        "id": "lXpTTZ7boQ87"
      }
    },
    {
      "cell_type": "code",
      "source": [
        "person = {\"name\": \"Bob\", \"age\": 22, \"city\": \"New York\"}\n",
        "del person[\"age\"]\n",
        "print(person)"
      ],
      "metadata": {
        "colab": {
          "base_uri": "https://localhost:8080/"
        },
        "id": "lX6X61EPoWrF",
        "outputId": "77fb34ba-2d63-4ef6-fd9d-aa74e41305ca"
      },
      "execution_count": 26,
      "outputs": [
        {
          "output_type": "stream",
          "name": "stdout",
          "text": [
            "{'name': 'Bob', 'city': 'New York'}\n"
          ]
        }
      ]
    },
    {
      "cell_type": "markdown",
      "source": [
        "25. Write a code to check if the key \"city\" exists in the dictionary {'name': 'Alice', 'city': 'Paris'}."
      ],
      "metadata": {
        "id": "TVAO0XJ2ocj7"
      }
    },
    {
      "cell_type": "code",
      "source": [
        "person = {\"name\": \"Alice\", \"city\": \"Paris\"}\n",
        "print(\"city\" in person)"
      ],
      "metadata": {
        "colab": {
          "base_uri": "https://localhost:8080/"
        },
        "id": "ag4hdfm_oj0s",
        "outputId": "3579a617-1da9-43ab-902a-3a54181cb97e"
      },
      "execution_count": 27,
      "outputs": [
        {
          "output_type": "stream",
          "name": "stdout",
          "text": [
            "True\n"
          ]
        }
      ]
    },
    {
      "cell_type": "markdown",
      "source": [
        "26. Write a code to create a list, a tuple, and a dictionary, and print them all."
      ],
      "metadata": {
        "id": "vNCGEDKgooWa"
      }
    },
    {
      "cell_type": "code",
      "source": [
        "my_list = [1, 2, 3]\n",
        "my_list = [1, 2, 3]\n",
        "my_tuple = (4, 5, 6)\n",
        "my_dict = {\"a\": 7, \"b\": 8}\n",
        "print(\"my_list, my_tuple, my_dict\")"
      ],
      "metadata": {
        "colab": {
          "base_uri": "https://localhost:8080/"
        },
        "id": "oMyWAn2oovpN",
        "outputId": "ca99e3be-3d87-4d8a-c97a-0b35db9fdf2b"
      },
      "execution_count": 28,
      "outputs": [
        {
          "output_type": "stream",
          "name": "stdout",
          "text": [
            "my_list, my_tuple, my_dict\n"
          ]
        }
      ]
    },
    {
      "cell_type": "markdown",
      "source": [
        "27. Write a code to create a list of 5 random numbers between 1 and 100, sort it in ascending order, and print the result.(replaced)"
      ],
      "metadata": {
        "id": "InT5ooCxo0hn"
      }
    },
    {
      "cell_type": "code",
      "source": [
        "import random\n",
        "numbers = random.sample(range(1, 101), 5)\n",
        "numbers.sort()\n",
        "print(numbers)"
      ],
      "metadata": {
        "colab": {
          "base_uri": "https://localhost:8080/"
        },
        "id": "thxyPPdwo5gC",
        "outputId": "c3cb0372-672c-4d93-8a4b-c06dba81be70"
      },
      "execution_count": 29,
      "outputs": [
        {
          "output_type": "stream",
          "name": "stdout",
          "text": [
            "[12, 17, 19, 48, 92]\n"
          ]
        }
      ]
    },
    {
      "cell_type": "markdown",
      "source": [
        "28. Write a code to create a list with strings and print the element at the third index."
      ],
      "metadata": {
        "id": "2kWOoS2bpCvq"
      }
    },
    {
      "cell_type": "code",
      "source": [
        "words = [\"apple\", \"banana\", \"cherry\", \"date\", \"guava\"]\n",
        "print(words[3])"
      ],
      "metadata": {
        "colab": {
          "base_uri": "https://localhost:8080/"
        },
        "id": "fX1OB_z7pETq",
        "outputId": "e5564615-e7a9-4719-f218-da29d99858ed"
      },
      "execution_count": 30,
      "outputs": [
        {
          "output_type": "stream",
          "name": "stdout",
          "text": [
            "date\n"
          ]
        }
      ]
    },
    {
      "cell_type": "markdown",
      "source": [
        "29. Write a code to combine two dictionaries into one and print the result."
      ],
      "metadata": {
        "id": "VTPREj0YpIRd"
      }
    },
    {
      "cell_type": "code",
      "source": [
        "dict1 = {\"a\": 1, \"b\": 2}\n",
        "dict2 = {\"c\": 3, \"d\": 4}\n",
        "combined_dict = {**dict1, **dict2}\n",
        "print(combined_dict)"
      ],
      "metadata": {
        "colab": {
          "base_uri": "https://localhost:8080/"
        },
        "id": "FnlxLeOspOQZ",
        "outputId": "ed3e0fbf-397f-4acc-eeac-aa917ab3fbe5"
      },
      "execution_count": 31,
      "outputs": [
        {
          "output_type": "stream",
          "name": "stdout",
          "text": [
            "{'a': 1, 'b': 2, 'c': 3, 'd': 4}\n"
          ]
        }
      ]
    },
    {
      "cell_type": "markdown",
      "source": [
        "30. Write a code to convert a list of strings into a set."
      ],
      "metadata": {
        "id": "2Uo3GdQNpSlI"
      }
    },
    {
      "cell_type": "code",
      "source": [
        "words = [\"apple\", \"banana\", \"cherry\", \"apple\"]\n",
        "word_set = set(words)\n",
        "print(word_set)"
      ],
      "metadata": {
        "colab": {
          "base_uri": "https://localhost:8080/"
        },
        "id": "kX57u3fspYCZ",
        "outputId": "62ae8221-350c-42ca-97ff-e820528437bd"
      },
      "execution_count": 32,
      "outputs": [
        {
          "output_type": "stream",
          "name": "stdout",
          "text": [
            "{'banana', 'cherry', 'apple'}\n"
          ]
        }
      ]
    }
  ]
}